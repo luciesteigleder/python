{
 "cells": [
  {
   "cell_type": "markdown",
   "id": "ed8525d9-cdea-46aa-9bc1-dc23b483da40",
   "metadata": {},
   "source": [
    "# Sentiment analysis"
   ]
  },
  {
   "cell_type": "markdown",
   "id": "125126fa-4861-4379-a17f-97721bf24601",
   "metadata": {},
   "source": [
    "## Steps"
   ]
  },
  {
   "cell_type": "markdown",
   "id": "da7996f5-eb19-41b3-b326-67796b914902",
   "metadata": {},
   "source": [
    "1. We will see whether the data is nul or only composed of spaces (with regex)\n",
    "2. remove the data that is not ascii\n",
    "3. remove punctuation\n",
    "4. remove stopwords CAREFUL: we still want to keep the \"not\", \"none\" etc\n",
    "5. remove special characters\n",
    "6. remove urls\n",
    "7. remove numbers and alphanumeric characters\n",
    "8. lemmetazation"
   ]
  },
  {
   "cell_type": "markdown",
   "id": "d46d8db6-bc45-4809-90b2-277280241126",
   "metadata": {},
   "source": [
    "### Then we can do sentiment function"
   ]
  },
  {
   "cell_type": "code",
   "execution_count": null,
   "id": "17a90c82-e9c7-492d-9982-92736902c137",
   "metadata": {},
   "outputs": [],
   "source": []
  }
 ],
 "metadata": {
  "kernelspec": {
   "display_name": "Python 3 (ipykernel)",
   "language": "python",
   "name": "python3"
  },
  "language_info": {
   "codemirror_mode": {
    "name": "ipython",
    "version": 3
   },
   "file_extension": ".py",
   "mimetype": "text/x-python",
   "name": "python",
   "nbconvert_exporter": "python",
   "pygments_lexer": "ipython3",
   "version": "3.10.12"
  }
 },
 "nbformat": 4,
 "nbformat_minor": 5
}
